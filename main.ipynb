{
 "cells": [
  {
   "cell_type": "markdown",
   "metadata": {},
   "source": [
    "import numpy as np",
    "import matplotlib.pyplot as plt",
    "import pandas as pd",
    "",
    "import sklearn",
   ]
  },
]
}
